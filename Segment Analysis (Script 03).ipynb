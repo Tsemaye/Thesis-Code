{
 "cells": [
  {
   "cell_type": "code",
   "execution_count": 1,
   "id": "b5c9b298-4195-4538-9bf0-b71dcc5b4ff1",
   "metadata": {},
   "outputs": [],
   "source": [
    "import pandas as pd\n",
    "import numpy as np\n",
    "from sklearn.metrics import mean_squared_error, mean_absolute_error, r2_score"
   ]
  },
  {
   "cell_type": "code",
   "execution_count": 3,
   "id": "6f292d6f-80bc-4ec8-9fe3-d777de672208",
   "metadata": {},
   "outputs": [],
   "source": [
    "RANDOM_STATE = 42\n",
    "np.random.seed(RANDOM_STATE)"
   ]
  },
  {
   "cell_type": "code",
   "execution_count": 5,
   "id": "4c6dc5fc-7f32-4f62-801f-fbc0ee1d85b0",
   "metadata": {},
   "outputs": [],
   "source": [
    "input_path = '/Users/charisoneyemi/Downloads/THESISFOLDER/FinalDataset/clustering_work.csv'\n",
    "df = pd.read_csv(input_path, parse_dates=['First_Purchase', 'Last_Purchase'])"
   ]
  },
  {
   "cell_type": "code",
   "execution_count": 9,
   "id": "a3def8bf-e8ae-43d2-9a55-09222074b607",
   "metadata": {},
   "outputs": [],
   "source": [
    "# Just defining features (the same as before)\n",
    "numeric_features = [\n",
    "    'Unique_Products', 'Unique_Categories',\n",
    "    'Recency_Days', 'Frequency', 'Avg_Order_Value', 'Avg_Quantity_Per_Order'\n",
    "]\n",
    "\n",
    "categorical_features = [\n",
    "    'Age Group', 'Hispanic Origin', 'Race', 'Education', 'Household Income',\n",
    "    'Gender Identity', 'Sexual Orientation', 'State Reported',\n",
    "    'Account Shared With', 'Household Size', 'Amazon Order Frequency',\n",
    "    'Smoke Cigarettes', 'Smoke Marijuana', 'Drink Alcohol', 'Diabetes', 'Wheelchair',\n",
    "    'Opinion: Amazon Sell Data', 'Opinion: Companies Sell Data',\n",
    "    'Opinion: SMB Data Access', 'Opinion: Census Use Data', 'Opinion: Research Use Data',\n",
    "    'Behavior_Segment'\n",
    "]\n",
    "\n",
    "behavioral_features = [\n",
    "    'Avg_Quantity_Per_Order',\n",
    "    'Avg_Order_Value',\n",
    "    'Frequency',\n",
    "    'Recency_Days',\n",
    "    'Unique_Categories',\n",
    "    'Unique_Products',\n",
    "    'Total_Spent'\n",
    "]"
   ]
  },
  {
   "cell_type": "code",
   "execution_count": 11,
   "id": "151585ca-2c92-47b1-a7ec-b79399d6b539",
   "metadata": {},
   "outputs": [],
   "source": [
    "X = df[numeric_features + categorical_features]\n",
    "y = df['Total_Spent']"
   ]
  },
  {
   "cell_type": "markdown",
   "id": "34b8ec5d-c173-46ef-97d6-a9ece78ec557",
   "metadata": {},
   "source": [
    "# Revenue concentration by segment"
   ]
  },
  {
   "cell_type": "code",
   "execution_count": 14,
   "id": "619351d0-17fe-4b78-ac83-55c33ee18765",
   "metadata": {},
   "outputs": [
    {
     "name": "stdout",
     "output_type": "stream",
     "text": [
      "\n",
      "Segment 0:\n",
      "  Total Revenue: $18,643,616.81\n",
      "  Revenue Share: 42.3% of total\n",
      "  Number of Customers: 3,897\n",
      "  Average CLV: $4,784.09\n",
      "\n",
      "Segment 1:\n",
      "  Total Revenue: $25,410,016.31\n",
      "  Revenue Share: 57.7% of total\n",
      "  Number of Customers: 1,130\n",
      "  Average CLV: $22,486.74\n"
     ]
    }
   ],
   "source": [
    "total_revenue = df['Total_Spent'].sum()\n",
    "for segment in [0, 1]:\n",
    "    subset = df[df['Behavior_Segment'] == segment]\n",
    "    seg_revenue = subset['Total_Spent'].sum()\n",
    "    percentage = (seg_revenue / total_revenue) * 100\n",
    "    print(f\"\\nSegment {segment}:\")\n",
    "    print(f\"  Total Revenue: ${seg_revenue:,.2f}\")\n",
    "    print(f\"  Revenue Share: {percentage:.1f}% of total\")\n",
    "    print(f\"  Number of Customers: {len(subset):,}\")\n",
    "    print(f\"  Average CLV: ${subset['Total_Spent'].mean():,.2f}\")"
   ]
  },
  {
   "cell_type": "markdown",
   "id": "4f64ae86-1d6c-4176-89a4-cf385fa23ff9",
   "metadata": {},
   "source": [
    "# Demographic breakdown by segment"
   ]
  },
  {
   "cell_type": "code",
   "execution_count": 19,
   "id": "8fbc84ac-e7de-4bd8-92ce-87664b5d71f1",
   "metadata": {},
   "outputs": [
    {
     "name": "stdout",
     "output_type": "stream",
     "text": [
      "\n",
      "SEGMENT 0\n",
      "Age Group: 25 - 34 years (n=1473)\n",
      "Education: Bachelor's degree (n=1704)\n",
      "Household Income: $25,000 - $49,999 (n=1016)\n",
      "Gender Identity: Female (n=1920)\n",
      "\n",
      "SEGMENT 1\n",
      "Age Group: 35 - 44 years (n=368)\n",
      "Education: Bachelor's degree (n=515)\n",
      "Household Income: $100,000 - $149,999 (n=284)\n",
      "Gender Identity: Female (n=669)\n"
     ]
    }
   ],
   "source": [
    "demo_features = ['Age Group', 'Education', 'Household Income', 'Gender Identity']\n",
    "for segment in [0, 1]:\n",
    "    print(f\"\\nSEGMENT {segment}\")\n",
    "    for feature in demo_features:\n",
    "        if feature in df.columns:\n",
    "            mode_value = df[df['Behavior_Segment'] == segment][feature].mode()\n",
    "            if len(mode_value) > 0:\n",
    "                count = df[df['Behavior_Segment'] == segment][feature].value_counts()\n",
    "                print(f\"{feature}: {mode_value[0]} (n={count.iloc[0]})\")"
   ]
  },
  {
   "cell_type": "markdown",
   "id": "49109f63-3227-4853-bd70-ad66acd766c9",
   "metadata": {},
   "source": [
    "# Segment-specific prediction accuracy"
   ]
  },
  {
   "cell_type": "code",
   "execution_count": 22,
   "id": "7a5815ee-7aa8-45fd-9930-0516a87561b9",
   "metadata": {},
   "outputs": [
    {
     "name": "stdout",
     "output_type": "stream",
     "text": [
      "\n",
      "Segment 0 Prediction Performance:\n",
      "  RMSE: $250.59\n",
      "  MAE: $81.91\n",
      "  R²: 0.9955\n",
      "\n",
      "Segment 1 Prediction Performance:\n",
      "  RMSE: $2620.66\n",
      "  MAE: $844.62\n",
      "  R²: 0.9490\n"
     ]
    },
    {
     "name": "stderr",
     "output_type": "stream",
     "text": [
      "/opt/anaconda3/lib/python3.12/site-packages/sklearn/metrics/_regression.py:492: FutureWarning: 'squared' is deprecated in version 1.4 and will be removed in 1.6. To calculate the root mean squared error, use the function'root_mean_squared_error'.\n",
      "  warnings.warn(\n",
      "/opt/anaconda3/lib/python3.12/site-packages/sklearn/metrics/_regression.py:492: FutureWarning: 'squared' is deprecated in version 1.4 and will be removed in 1.6. To calculate the root mean squared error, use the function'root_mean_squared_error'.\n",
      "  warnings.warn(\n"
     ]
    }
   ],
   "source": [
    "for segment in [0, 1]:\n",
    "    segment_mask = df['Behavior_Segment'] == segment\n",
    "    \n",
    "    y_true_seg = df[segment_mask]['Total_Spent']\n",
    "    y_pred_seg = df[segment_mask]['CLV_Predicted']\n",
    "    \n",
    "    rmse_seg = mean_squared_error(y_true_seg, y_pred_seg, squared=False)\n",
    "    mae_seg = mean_absolute_error(y_true_seg, y_pred_seg)\n",
    "    r2_seg = r2_score(y_true_seg, y_pred_seg)\n",
    "    \n",
    "    print(f\"\\nSegment {segment} Prediction Performance:\")\n",
    "    print(f\"  RMSE: ${rmse_seg:.2f}\")\n",
    "    print(f\"  MAE: ${mae_seg:.2f}\")\n",
    "    print(f\"  R²: {r2_seg:.4f}\")"
   ]
  },
  {
   "cell_type": "markdown",
   "id": "8bc4cb66-a4c2-4881-be94-77f13e7822c4",
   "metadata": {},
   "source": [
    "# Summary statistics by segment"
   ]
  },
  {
   "cell_type": "code",
   "execution_count": 25,
   "id": "e036ce09-7e0e-4b6d-91fd-a4b76fb76159",
   "metadata": {},
   "outputs": [
    {
     "name": "stdout",
     "output_type": "stream",
     "text": [
      "\n",
      "                  Avg_Quantity_Per_Order                                 \\\n",
      "                                   mean       std       min        max   \n",
      "Behavior_Segment                                                         \n",
      "0                              2.223512  1.026641  1.000000  16.791667   \n",
      "1                              2.828038  1.426449  1.377778  17.900000   \n",
      "\n",
      "                 Avg_Order_Value                                    \\\n",
      "                            mean        std        min         max   \n",
      "Behavior_Segment                                                     \n",
      "0                      52.873373  26.983699   1.840000  368.875600   \n",
      "1                      60.458654  25.873551  20.134879  321.314412   \n",
      "\n",
      "                   Frequency              ... Unique_Categories       \\\n",
      "                        mean         std  ...               min  max   \n",
      "Behavior_Segment                          ...                          \n",
      "0                  97.257634   74.882984  ...                 1  246   \n",
      "1                 394.600000  174.401416  ...                79  696   \n",
      "\n",
      "                 Unique_Products                          Total_Spent  \\\n",
      "                            mean         std  min   max          mean   \n",
      "Behavior_Segment                                                        \n",
      "0                     158.391840  117.090376    1   678   4784.094639   \n",
      "1                     732.590265  375.308968  266  4104  22486.740097   \n",
      "\n",
      "                                                    \n",
      "                           std      min        max  \n",
      "Behavior_Segment                                    \n",
      "0                  3732.935237     1.84   27665.67  \n",
      "1                 11610.311542  2984.91  115391.18  \n",
      "\n",
      "[2 rows x 28 columns]\n"
     ]
    }
   ],
   "source": [
    "segment_stats = df.groupby('Behavior_Segment')[behavioral_features].agg(['mean', 'std', 'min', 'max'])\n",
    "print(\"\\n\", segment_stats)"
   ]
  },
  {
   "cell_type": "markdown",
   "id": "5bc4f6f3-999d-4671-98b8-4e68890b25d3",
   "metadata": {},
   "source": [
    "# Overall dataset summary"
   ]
  },
  {
   "cell_type": "code",
   "execution_count": 28,
   "id": "9bd853a4-800d-4b24-bcc8-55e89c493bd4",
   "metadata": {},
   "outputs": [
    {
     "name": "stdout",
     "output_type": "stream",
     "text": [
      "Total Customers: 5,027\n",
      "Total Revenue: $44,053,633.12\n",
      "Average CLV: $8,763.40\n",
      "Median CLV: $5,706.99\n",
      "CLV Standard Deviation: $9,782.76\n",
      "\n",
      "Date Range: 2018-01-01 to 2024-08-15\n"
     ]
    }
   ],
   "source": [
    "print(f\"Total Customers: {len(df):,}\")\n",
    "print(f\"Total Revenue: ${total_revenue:,.2f}\")\n",
    "print(f\"Average CLV: ${df['Total_Spent'].mean():,.2f}\")\n",
    "print(f\"Median CLV: ${df['Total_Spent'].median():,.2f}\")\n",
    "print(f\"CLV Standard Deviation: ${df['Total_Spent'].std():,.2f}\")\n",
    "print(f\"\\nDate Range: {df['First_Purchase'].min().date()} to {df['Last_Purchase'].max().date()}\")"
   ]
  },
  {
   "cell_type": "code",
   "execution_count": null,
   "id": "418ccf0f-17ec-4c88-8074-a7ed16414237",
   "metadata": {},
   "outputs": [],
   "source": []
  }
 ],
 "metadata": {
  "kernelspec": {
   "display_name": "Python [conda env:base] *",
   "language": "python",
   "name": "conda-base-py"
  },
  "language_info": {
   "codemirror_mode": {
    "name": "ipython",
    "version": 3
   },
   "file_extension": ".py",
   "mimetype": "text/x-python",
   "name": "python",
   "nbconvert_exporter": "python",
   "pygments_lexer": "ipython3",
   "version": "3.12.7"
  }
 },
 "nbformat": 4,
 "nbformat_minor": 5
}
